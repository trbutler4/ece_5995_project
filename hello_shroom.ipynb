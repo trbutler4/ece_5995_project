{
 "cells": [
  {
   "cell_type": "code",
   "execution_count": 1,
   "metadata": {},
   "outputs": [],
   "source": [
    "from shroomdk import ShroomDK\n",
    "sdk = ShroomDK()"
   ]
  },
  {
   "cell_type": "code",
   "execution_count": 2,
   "metadata": {},
   "outputs": [],
   "source": [
    "# EXAMPLE\n",
    "\n",
    "# Create a query object for the `query.run` function to execute\n",
    "# with a page size of 100 rows, starting with page #1.\n",
    "sql = \"\"\"\n",
    "  SELECT\n",
    "    nft_address,\n",
    "    mint_price_eth,\n",
    "    mint_price_usd\n",
    "  FROM ethereum.core.ez_nft_mints\n",
    "  LIMIT 200000\n",
    "\"\"\"\n",
    "\n",
    "# Run the query on Flipside's Query Engine and await the results...\n",
    "page_1_results = sdk.query(\n",
    "  sql,\n",
    "  page_size=100,\n",
    "  page_number=1\n",
    ")"
   ]
  },
  {
   "cell_type": "code",
   "execution_count": null,
   "metadata": {},
   "outputs": [],
   "source": []
  }
 ],
 "metadata": {
  "kernelspec": {
   "display_name": "Python 3",
   "language": "python",
   "name": "python3"
  },
  "language_info": {
   "codemirror_mode": {
    "name": "ipython",
    "version": 3
   },
   "file_extension": ".py",
   "mimetype": "text/x-python",
   "name": "python",
   "nbconvert_exporter": "python",
   "pygments_lexer": "ipython3",
   "version": "3.10.6"
  },
  "orig_nbformat": 4
 },
 "nbformat": 4,
 "nbformat_minor": 2
}
